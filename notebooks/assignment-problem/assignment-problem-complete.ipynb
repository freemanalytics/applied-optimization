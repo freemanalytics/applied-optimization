{
 "cells": [
  {
   "cell_type": "markdown",
   "id": "c9338cc6-7798-4f74-9e0f-9dbf5bb911da",
   "metadata": {},
   "source": [
    "This notebook implements a Gurobi model to solve the assignment problem. The following code block imports libraries that are used in the implementation."
   ]
  },
  {
   "cell_type": "code",
   "execution_count": 1,
   "id": "827cbbfd-aece-42b8-be19-4882a2db25a4",
   "metadata": {},
   "outputs": [],
   "source": [
    "import itertools\n",
    "import json\n",
    "\n",
    "import gurobipy\n",
    "import matplotlib.pyplot as plt\n",
    "import numpy as np\n",
    "import pandas as pd\n",
    "import seaborn as sns"
   ]
  },
  {
   "cell_type": "markdown",
   "id": "ddacc80a-38cf-4d91-8a2b-07ab8390e9e5",
   "metadata": {},
   "source": [
    "#### Formulation\n",
    "\n",
    "<u>Set(s)</u></br>\n",
    "$M$ - set of resources, $i \\in M$</br>\n",
    "$N$ - set of tasks, $j \\in N$</br>\n",
    "\n",
    "<u>Parameters</u></br>\n",
    "$c_{ij}$ - cost of assigning resource $i$ to task $j$\n",
    "\n",
    "<u>Decision Variables</u></br>\n",
    "$X_{ij}$ - 1, if resource $i$ is assigned to task $j$; 0, otherwise.\n",
    "\n",
    "\\begin{align}\n",
    "\\text{Minimize } \\sum_{i\\in M}\\sum_{j\\in N} c_{ij}X_{ij} \\hspace{10cm}~\\\\\n",
    "\\end{align}\n",
    "\\begin{align}\n",
    "\\text{subject }to\\qquad\\qquad\\\\\n",
    "\\sum_{i \\in M} X_{ij} &= 1, \\forall j \\in N. && \\text{(Each task assigned to one resource)}\\\\\n",
    "\\sum_{j \\in N} X_{ij} &= 1, \\forall i \\in M. && \\text{(Each resource assigned to one task)}\\\\\n",
    "X_{ij} & \\in \\{0, 1\\}, \\forall i \\in M, j \\in N. && \\text{(Assignment variables are binary)}\n",
    "\\end{align}"
   ]
  },
  {
   "cell_type": "markdown",
   "id": "5935843d-6cd1-413e-9bd0-8fa64bc8fe00",
   "metadata": {},
   "source": [
    "The following code block generates data for an example instance of the assignment problem"
   ]
  },
  {
   "cell_type": "code",
   "execution_count": 2,
   "id": "d6bdb9b7-4262-4b6e-a146-b01e52c90a52",
   "metadata": {},
   "outputs": [],
   "source": [
    "SIZE = 10\n",
    "\n",
    "M = {i for i in range(1, SIZE+1)}\n",
    "N = {j for j in range(1, SIZE+1)}\n",
    "\n",
    "np.random.seed(0)\n",
    "\n",
    "c = {(i, j): np.random.uniform(low=0.0, high=10.0) for i, j in itertools.product(M, N)}"
   ]
  },
  {
   "cell_type": "markdown",
   "id": "e44c6c69-ca83-464d-b660-2263d58bb24c",
   "metadata": {},
   "source": [
    "First, we need to instantiate a Gurobi `Model` instance"
   ]
  },
  {
   "cell_type": "code",
   "execution_count": 3,
   "id": "c39ad3a7-84d2-4de3-bda6-827a6e516de8",
   "metadata": {},
   "outputs": [
    {
     "name": "stdout",
     "output_type": "stream",
     "text": [
      "Set parameter Username\n",
      "Academic license - for non-commercial use only - expires 2024-11-30\n"
     ]
    }
   ],
   "source": [
    "model = gurobipy.Model('Assignment-Problem')"
   ]
  },
  {
   "cell_type": "markdown",
   "id": "cbfa88a8-4331-4af8-9c44-95469bbf358d",
   "metadata": {},
   "source": [
    "Next, we define the decision variables"
   ]
  },
  {
   "cell_type": "code",
   "execution_count": 4,
   "id": "bd4558a5-53b0-45bd-9f38-15a74cd92ba1",
   "metadata": {},
   "outputs": [],
   "source": [
    "X = model.addVars(\n",
    "    N, \n",
    "    M, \n",
    "    vtype=gurobipy.GRB.BINARY,\n",
    "    name='X',\n",
    ")"
   ]
  },
  {
   "cell_type": "markdown",
   "id": "8ab060e6-0132-44dd-9144-92aa803f107a",
   "metadata": {},
   "source": [
    "Next, we define the objective function and specify that our instantiated model should use the defined objective. As a reminder, our objective is:\n",
    "\n",
    "$$\\text{Minimize } \\sum_{i\\in M}\\sum_{j\\in N} c_{ij}X_{ij}.$$\n",
    "\n",
    "Note that we use a `LinExpr` object and `for` loops to capture the sums in the expression."
   ]
  },
  {
   "cell_type": "code",
   "execution_count": 5,
   "id": "94469440-af2e-448b-a4af-c0dc4560db53",
   "metadata": {},
   "outputs": [],
   "source": [
    "total_cost = gurobipy.LinExpr()\n",
    "for i in N:\n",
    "    for j in M:\n",
    "        total_cost.add(c[i, j]*X[i, j])\n",
    "\n",
    "model.setObjective(\n",
    "    total_cost, \n",
    "    sense=gurobipy.GRB.MINIMIZE,\n",
    ")"
   ]
  },
  {
   "cell_type": "markdown",
   "id": "f745b5bd-0ae8-4abc-93c3-ec279e4d6715",
   "metadata": {},
   "source": [
    "The following code block defines the set of constraints that ensure each task is assigned to one resource. In the formulation, we represented this set of constraints as:\n",
    "\n",
    "$$\\sum_{i \\in M} X_{ij} = 1, \\forall j \\in N.$$"
   ]
  },
  {
   "cell_type": "code",
   "execution_count": 6,
   "id": "010f96d1-b49a-4e7d-a006-3bf80e6aeb49",
   "metadata": {},
   "outputs": [],
   "source": [
    "for j in N:\n",
    "    i_sum = gurobipy.LinExpr()\n",
    "    for i in M:\n",
    "        i_sum.add(X[i, j])\n",
    "    model.addConstr(\n",
    "        i_sum == 1, \n",
    "        name=f'task_{j}_assigned_to_one_resource',\n",
    "    )"
   ]
  },
  {
   "cell_type": "markdown",
   "id": "83a8a6ab-fc00-4d3d-b06b-03122d2d25e3",
   "metadata": {},
   "source": [
    "The following code block defines the set of constraints that ensure each resource is assigned to one task. In the formulation, we represented this set of constraints as:\n",
    "\n",
    "$$\\sum_{j \\in N} X_{ij} = 1, \\forall i \\in M.$$"
   ]
  },
  {
   "cell_type": "code",
   "execution_count": 7,
   "id": "ddebfd44-b646-41cd-a081-2db9474236a7",
   "metadata": {},
   "outputs": [],
   "source": [
    "for i in M:\n",
    "    j_sum = gurobipy.LinExpr()\n",
    "    for j in N:\n",
    "        j_sum.add(X[i, j])\n",
    "    model.addConstr(\n",
    "        j_sum == 1, \n",
    "        name=f'resource_{i}_assigned_to_one_task',\n",
    "    )"
   ]
  },
  {
   "cell_type": "markdown",
   "id": "c20aff7b-9a09-4e51-ae29-5b9ba43097ff",
   "metadata": {},
   "source": [
    "Before we solve the model, lets `update` our model and look at the information it contains."
   ]
  },
  {
   "cell_type": "code",
   "execution_count": 8,
   "id": "59819751-80fd-4cfe-9209-94aa3e041267",
   "metadata": {},
   "outputs": [
    {
     "data": {
      "text/plain": [
       "<gurobi.Model MIP instance Assignment-Problem: 20 constrs, 100 vars, Parameter changes: Username=(user-defined)>"
      ]
     },
     "execution_count": 8,
     "metadata": {},
     "output_type": "execute_result"
    }
   ],
   "source": [
    "model.update()\n",
    "model"
   ]
  },
  {
   "cell_type": "markdown",
   "id": "47948c75-83c8-4369-87ca-419466a25038",
   "metadata": {},
   "source": [
    "Let's look at the constraints"
   ]
  },
  {
   "cell_type": "code",
   "execution_count": 9,
   "id": "29e01e36-d484-403f-afc4-22e44b9f4779",
   "metadata": {},
   "outputs": [
    {
     "data": {
      "text/plain": [
       "[<gurobi.Constr task_1_assigned_to_one_resource>,\n",
       " <gurobi.Constr task_2_assigned_to_one_resource>,\n",
       " <gurobi.Constr task_3_assigned_to_one_resource>,\n",
       " <gurobi.Constr task_4_assigned_to_one_resource>,\n",
       " <gurobi.Constr task_5_assigned_to_one_resource>,\n",
       " <gurobi.Constr task_6_assigned_to_one_resource>,\n",
       " <gurobi.Constr task_7_assigned_to_one_resource>,\n",
       " <gurobi.Constr task_8_assigned_to_one_resource>,\n",
       " <gurobi.Constr task_9_assigned_to_one_resource>,\n",
       " <gurobi.Constr task_10_assigned_to_one_resource>,\n",
       " <gurobi.Constr resource_1_assigned_to_one_task>,\n",
       " <gurobi.Constr resource_2_assigned_to_one_task>,\n",
       " <gurobi.Constr resource_3_assigned_to_one_task>,\n",
       " <gurobi.Constr resource_4_assigned_to_one_task>,\n",
       " <gurobi.Constr resource_5_assigned_to_one_task>,\n",
       " <gurobi.Constr resource_6_assigned_to_one_task>,\n",
       " <gurobi.Constr resource_7_assigned_to_one_task>,\n",
       " <gurobi.Constr resource_8_assigned_to_one_task>,\n",
       " <gurobi.Constr resource_9_assigned_to_one_task>,\n",
       " <gurobi.Constr resource_10_assigned_to_one_task>]"
      ]
     },
     "execution_count": 9,
     "metadata": {},
     "output_type": "execute_result"
    }
   ],
   "source": [
    "model.getConstrs()"
   ]
  },
  {
   "cell_type": "markdown",
   "id": "e5924bac-8542-4be4-a58b-39b61286273b",
   "metadata": {},
   "source": [
    "Let's look at the objective"
   ]
  },
  {
   "cell_type": "code",
   "execution_count": 10,
   "id": "27b87fcc-7300-4f83-a8d9-a8303926bf02",
   "metadata": {},
   "outputs": [
    {
     "data": {
      "text/plain": [
       "<gurobi.LinExpr: 5.4881350392732475 X[1,1] + 7.151893663724195 X[1,2] + 6.027633760716439 X[1,3] + 5.448831829968968 X[1,4] + 4.236547993389047 X[1,5] + 6.458941130666561 X[1,6] + 4.375872112626925 X[1,7] + 8.917730007820797 X[1,8] + 9.636627605010293 X[1,9] + 3.8344151882577773 X[1,10] + 7.917250380826646 X[2,1] + 5.288949197529044 X[2,2] + 5.680445610939323 X[2,3] + 9.25596638292661 X[2,4] + 0.7103605819788694 X[2,5] + 0.8712929970154071 X[2,6] + 0.2021839744032572 X[2,7] + 8.32619845547938 X[2,8] + 7.781567509498505 X[2,9] + 8.700121482468191 X[2,10] + 9.78618342232764 X[3,1] + 7.9915856421672355 X[3,2] + 4.6147936225293185 X[3,3] + 7.805291762864554 X[3,4] + 1.1827442586893322 X[3,5] + 6.399210213275238 X[3,6] + 1.433532874090464 X[3,7] + 9.446689170495839 X[3,8] + 5.218483217500717 X[3,9] + 4.146619399905235 X[3,10] + 2.64555612104627 X[4,1] + 7.742336894342166 X[4,2] + 4.5615033221654855 X[4,3] + 5.684339488686485 X[4,4] + 0.18789800436355142 X[4,5] + 6.176354970758771 X[4,6] + 6.120957227224214 X[4,7] + 6.169339968747569 X[4,8] + 9.437480785146242 X[4,9] + 6.818202991034834 X[4,10] + 3.59507900573786 X[5,1] + 4.3703195379934145 X[5,2] + 6.976311959272649 X[5,3] + 0.6022547162926983 X[5,4] + 6.667667154456677 X[5,5] + 6.706378696181594 X[5,6] + 2.103825610738409 X[5,7] + 1.289262976548533 X[5,8] + 3.1542835092418384 X[5,9] + 3.637107709426226 X[5,10] + 5.701967704178797 X[6,1] + 4.386015134623204 X[6,2] + 9.883738380592263 X[6,3] + 1.0204481074802807 X[6,4] + 2.088767560948347 X[6,5] + 1.6130951788499626 X[6,6] + 6.531083254653984 X[6,7] + 2.532916025397821 X[6,8] + 4.663107728563062 X[6,9] + 2.4442559200160274 X[6,10] + 1.5896958364551972 X[7,1] + 1.1037514116430513 X[7,2] + 6.563295894652734 X[7,3] + 1.381829513486138 X[7,4] + 1.965823616800535 X[7,5] + 3.687251706609641 X[7,6] + 8.209932298479352 X[7,7] + 0.9710127579306127 X[7,8] + 8.379449074988038 X[7,9] + 0.9609840789396307 X[7,10] + 9.764594650133958 X[8,1] + 4.686512016477016 X[8,2] + 9.767610881903371 X[8,3] + 6.04845519745046 X[8,4] + 7.3926357939830165 X[8,5] + 0.39187792254320675 X[8,6] + 2.828069625764096 X[8,7] + 1.201965612131689 X[8,8] + 2.9614019752214493 X[8,9] + 1.1872771895424405 X[8,10] + 3.1798317939397602 X[9,1] + 4.1426299451467 X[9,2] + 0.6414749634878436 X[9,3] + 6.924721193700199 X[9,4] + 5.666014542065751 X[9,5] + 2.653894909394454 X[9,6] + 5.232480534666997 X[9,7] + 0.9394051075844168 X[9,8] + 5.759464955561793 X[9,9] + 9.292961975762141 X[9,10] + 3.1856895245132364 X[10,1] + 6.674103799636817 X[10,2] + 1.3179786240439217 X[10,3] + 7.163272041185655 X[10,4] + 2.894060929472011 X[10,5] + 1.8319136200711683 X[10,6] + 5.865129348100831 X[10,7] + 0.20107546187493552 X[10,8] + 8.289400292173632 X[10,9] + 0.046954761925470656 X[10,10]>"
      ]
     },
     "execution_count": 10,
     "metadata": {},
     "output_type": "execute_result"
    }
   ],
   "source": [
    "model.getObjective()"
   ]
  },
  {
   "cell_type": "markdown",
   "id": "86cd2521-c3d0-4064-8b47-9bf76d2c7280",
   "metadata": {},
   "source": [
    "The following code block solves the defined optimization model"
   ]
  },
  {
   "cell_type": "code",
   "execution_count": 11,
   "id": "35a882d8-ee2b-4f35-8462-3358f50b93f6",
   "metadata": {},
   "outputs": [
    {
     "name": "stdout",
     "output_type": "stream",
     "text": [
      "Gurobi Optimizer version 11.0.1 build v11.0.1rc0 (linux64 - \"Pop!_OS 22.04 LTS\")\n",
      "\n",
      "CPU model: AMD Ryzen 7 5800X 8-Core Processor, instruction set [SSE2|AVX|AVX2]\n",
      "Thread count: 8 physical cores, 16 logical processors, using up to 16 threads\n",
      "\n",
      "Optimize a model with 20 rows, 100 columns and 200 nonzeros\n",
      "Model fingerprint: 0x2395cee8\n",
      "Variable types: 0 continuous, 100 integer (100 binary)\n",
      "Coefficient statistics:\n",
      "  Matrix range     [1e+00, 1e+00]\n",
      "  Objective range  [5e-02, 1e+01]\n",
      "  Bounds range     [1e+00, 1e+00]\n",
      "  RHS range        [1e+00, 1e+00]\n",
      "Found heuristic solution: objective 55.5823369\n",
      "Presolve time: 0.00s\n",
      "Presolved: 20 rows, 100 columns, 200 nonzeros\n",
      "Variable types: 0 continuous, 100 integer (100 binary)\n",
      "\n",
      "Root relaxation: objective 1.437781e+01, 18 iterations, 0.00 seconds (0.00 work units)\n",
      "\n",
      "    Nodes    |    Current Node    |     Objective Bounds      |     Work\n",
      " Expl Unexpl |  Obj  Depth IntInf | Incumbent    BestBd   Gap | It/Node Time\n",
      "\n",
      "*    0     0               0      14.3778109   14.37781  0.00%     -    0s\n",
      "\n",
      "Explored 1 nodes (18 simplex iterations) in 0.01 seconds (0.00 work units)\n",
      "Thread count was 16 (of 16 available processors)\n",
      "\n",
      "Solution count 2: 14.3778 55.5823 \n",
      "\n",
      "Optimal solution found (tolerance 1.00e-04)\n",
      "Best objective 1.437781091867e+01, best bound 1.437781091867e+01, gap 0.0000%\n"
     ]
    }
   ],
   "source": [
    "model.optimize()"
   ]
  },
  {
   "cell_type": "markdown",
   "id": "4c978af2-24bd-4ec8-a78e-c0850704eef4",
   "metadata": {},
   "source": [
    "When the model is solved, you can use the `getJSONSolution` method to get information regarding the solution."
   ]
  },
  {
   "cell_type": "code",
   "execution_count": 12,
   "id": "609b3a52-507f-4ae3-8316-8c97da1686b7",
   "metadata": {},
   "outputs": [
    {
     "data": {
      "text/plain": [
       "{'SolutionInfo': {'Status': 2,\n",
       "  'Runtime': 0.008269071578979492,\n",
       "  'Work': 0.0005920507815653001,\n",
       "  'ObjVal': 14.377810918667794,\n",
       "  'ObjBound': 14.377810918667793,\n",
       "  'ObjBoundC': 14.377810918667793,\n",
       "  'MIPGap': 0,\n",
       "  'IntVio': 0,\n",
       "  'BoundVio': 0,\n",
       "  'ConstrVio': 0,\n",
       "  'IterCount': 18,\n",
       "  'BarIterCount': 0,\n",
       "  'NodeCount': 1,\n",
       "  'SolCount': 2,\n",
       "  'PoolObjBound': 14.377810918667793,\n",
       "  'PoolObjVal': [14.377810918667794, 55.58233689954017]},\n",
       " 'Vars': [{'VarName': 'X[1,10]', 'X': 1},\n",
       "  {'VarName': 'X[2,7]', 'X': 1},\n",
       "  {'VarName': 'X[3,5]', 'X': 1},\n",
       "  {'VarName': 'X[4,1]', 'X': 1},\n",
       "  {'VarName': 'X[5,9]', 'X': 1},\n",
       "  {'VarName': 'X[6,4]', 'X': 1},\n",
       "  {'VarName': 'X[7,2]', 'X': 1},\n",
       "  {'VarName': 'X[8,6]', 'X': 1},\n",
       "  {'VarName': 'X[9,3]', 'X': 1},\n",
       "  {'VarName': 'X[10,8]', 'X': 1}]}"
      ]
     },
     "execution_count": 12,
     "metadata": {},
     "output_type": "execute_result"
    }
   ],
   "source": [
    "json.loads(model.getJSONSolution())"
   ]
  },
  {
   "cell_type": "markdown",
   "id": "9bac986d-52c0-4815-bd99-8b1897fb82aa",
   "metadata": {},
   "source": [
    "You can get the value of the objective by calling the `ObjVal` attribute "
   ]
  },
  {
   "cell_type": "code",
   "execution_count": 13,
   "id": "3c8c031e-e206-40bc-bba8-fb869a6eef21",
   "metadata": {},
   "outputs": [
    {
     "data": {
      "text/plain": [
       "14.377810918667794"
      ]
     },
     "execution_count": 13,
     "metadata": {},
     "output_type": "execute_result"
    }
   ],
   "source": [
    "model.ObjVal"
   ]
  },
  {
   "cell_type": "markdown",
   "id": "17b6581d-44fa-47de-97af-1427910c50a8",
   "metadata": {},
   "source": [
    "If you want to access the specific value of a decision variable, you can use the variables `x` attribute"
   ]
  },
  {
   "cell_type": "code",
   "execution_count": 14,
   "id": "db507241-b5c5-4132-a1c7-98526c3d8961",
   "metadata": {},
   "outputs": [
    {
     "data": {
      "text/plain": [
       "0.0"
      ]
     },
     "execution_count": 14,
     "metadata": {},
     "output_type": "execute_result"
    }
   ],
   "source": [
    "X[1, 1].x"
   ]
  },
  {
   "cell_type": "markdown",
   "id": "7cbff5db-6b64-49e4-a4b6-be9946e53c3a",
   "metadata": {},
   "source": [
    "The following code block prints the optimal assignments for the sample problem"
   ]
  },
  {
   "cell_type": "code",
   "execution_count": 15,
   "id": "47451c73-d2cc-41f5-ad50-8a5c0ec271c0",
   "metadata": {},
   "outputs": [
    {
     "name": "stdout",
     "output_type": "stream",
     "text": [
      "Optimal Assignments\n",
      "--------------------\n",
      " - Resource 1 -> Task 10\n",
      " - Resource 2 -> Task 7\n",
      " - Resource 3 -> Task 5\n",
      " - Resource 4 -> Task 1\n",
      " - Resource 5 -> Task 9\n",
      " - Resource 6 -> Task 4\n",
      " - Resource 7 -> Task 2\n",
      " - Resource 8 -> Task 6\n",
      " - Resource 9 -> Task 3\n",
      " - Resource 10 -> Task 8\n"
     ]
    }
   ],
   "source": [
    "print('Optimal Assignments')\n",
    "print('-'*20)\n",
    "for i in M:\n",
    "    for j in N:\n",
    "        if X[i, j].x > 0.1:\n",
    "            print(f' - Resource {i} -> Task {j}')\n",
    "            break"
   ]
  },
  {
   "cell_type": "markdown",
   "id": "fad778ea-41ec-4a42-91e8-5b6b1407b4a5",
   "metadata": {},
   "source": [
    "#### All together\n",
    "\n",
    "The following code block includes all of the code to generate data and solve the model."
   ]
  },
  {
   "cell_type": "code",
   "execution_count": 16,
   "id": "19db1ead-8f1c-4842-92f8-82cb03a93a43",
   "metadata": {},
   "outputs": [
    {
     "name": "stdout",
     "output_type": "stream",
     "text": [
      "Gurobi Optimizer version 11.0.1 build v11.0.1rc0 (linux64 - \"Pop!_OS 22.04 LTS\")\n",
      "\n",
      "CPU model: AMD Ryzen 7 5800X 8-Core Processor, instruction set [SSE2|AVX|AVX2]\n",
      "Thread count: 8 physical cores, 16 logical processors, using up to 16 threads\n",
      "\n",
      "Optimize a model with 20 rows, 100 columns and 200 nonzeros\n",
      "Model fingerprint: 0x2395cee8\n",
      "Variable types: 0 continuous, 100 integer (100 binary)\n",
      "Coefficient statistics:\n",
      "  Matrix range     [1e+00, 1e+00]\n",
      "  Objective range  [5e-02, 1e+01]\n",
      "  Bounds range     [1e+00, 1e+00]\n",
      "  RHS range        [1e+00, 1e+00]\n",
      "Found heuristic solution: objective 55.5823369\n",
      "Presolve time: 0.00s\n",
      "Presolved: 20 rows, 100 columns, 200 nonzeros\n",
      "Variable types: 0 continuous, 100 integer (100 binary)\n",
      "\n",
      "Root relaxation: objective 1.437781e+01, 18 iterations, 0.00 seconds (0.00 work units)\n",
      "\n",
      "    Nodes    |    Current Node    |     Objective Bounds      |     Work\n",
      " Expl Unexpl |  Obj  Depth IntInf | Incumbent    BestBd   Gap | It/Node Time\n",
      "\n",
      "*    0     0               0      14.3778109   14.37781  0.00%     -    0s\n",
      "\n",
      "Explored 1 nodes (18 simplex iterations) in 0.00 seconds (0.00 work units)\n",
      "Thread count was 16 (of 16 available processors)\n",
      "\n",
      "Solution count 2: 14.3778 55.5823 \n",
      "\n",
      "Optimal solution found (tolerance 1.00e-04)\n",
      "Best objective 1.437781091867e+01, best bound 1.437781091867e+01, gap 0.0000%\n",
      "Optimal Assignments\n",
      "--------------------\n",
      " - Resource 1 -> Task 10\n",
      " - Resource 2 -> Task 7\n",
      " - Resource 3 -> Task 5\n",
      " - Resource 4 -> Task 1\n",
      " - Resource 5 -> Task 9\n",
      " - Resource 6 -> Task 4\n",
      " - Resource 7 -> Task 2\n",
      " - Resource 8 -> Task 6\n",
      " - Resource 9 -> Task 3\n",
      " - Resource 10 -> Task 8\n"
     ]
    }
   ],
   "source": [
    "SIZE = 10\n",
    "\n",
    "M = {i for i in range(1, SIZE+1)}\n",
    "N = {j for j in range(1, SIZE+1)}\n",
    "\n",
    "np.random.seed(0)\n",
    "\n",
    "c = {(i, j): np.random.uniform(low=0.0, high=10.0) for i, j in itertools.product(M, N)}\n",
    "\n",
    "model = gurobipy.Model('Assignment-Problem')\n",
    "\n",
    "X = model.addVars(\n",
    "    N, \n",
    "    M, \n",
    "    vtype=gurobipy.GRB.BINARY,\n",
    "    name='X',\n",
    ")\n",
    "\n",
    "total_cost = gurobipy.LinExpr()\n",
    "for i in N:\n",
    "    for j in M:\n",
    "        total_cost.add(c[i, j]*X[i, j])\n",
    "\n",
    "model.setObjective(\n",
    "    total_cost, \n",
    "    sense=gurobipy.GRB.MINIMIZE,\n",
    ")\n",
    "\n",
    "for j in N:\n",
    "    i_sum = gurobipy.LinExpr()\n",
    "    for i in M:\n",
    "        i_sum.add(X[i, j])\n",
    "    model.addConstr(\n",
    "        i_sum == 1, \n",
    "        name=f'task_{j}_assigned_to_one_resource',\n",
    "    )\n",
    "\n",
    "for i in M:\n",
    "    j_sum = gurobipy.LinExpr()\n",
    "    for j in N:\n",
    "        j_sum.add(X[i, j])\n",
    "    model.addConstr(\n",
    "        j_sum == 1, \n",
    "        name=f'resource_{i}_assigned_to_one_task',\n",
    "    )\n",
    "\n",
    "model.optimize()\n",
    "\n",
    "print('Optimal Assignments')\n",
    "print('-'*20)\n",
    "for i in M:\n",
    "    for j in N:\n",
    "        if X[i, j].x > 0.1:\n",
    "            print(f' - Resource {i} -> Task {j}')\n",
    "            break"
   ]
  },
  {
   "cell_type": "code",
   "execution_count": null,
   "id": "5a777f9a-b3c2-4816-ac34-fff520c7e7c6",
   "metadata": {},
   "outputs": [],
   "source": []
  }
 ],
 "metadata": {
  "kernelspec": {
   "display_name": "Python 3 (ipykernel)",
   "language": "python",
   "name": "python3"
  },
  "language_info": {
   "codemirror_mode": {
    "name": "ipython",
    "version": 3
   },
   "file_extension": ".py",
   "mimetype": "text/x-python",
   "name": "python",
   "nbconvert_exporter": "python",
   "pygments_lexer": "ipython3",
   "version": "3.12.2"
  }
 },
 "nbformat": 4,
 "nbformat_minor": 5
}
