{
 "cells": [
  {
   "cell_type": "markdown",
   "id": "c9338cc6-7798-4f74-9e0f-9dbf5bb911da",
   "metadata": {},
   "source": [
    "This notebook implements a Gurobi model to solve the knapsack problem. The following code block imports libraries that are used in the implementation."
   ]
  },
  {
   "cell_type": "code",
   "execution_count": 1,
   "id": "827cbbfd-aece-42b8-be19-4882a2db25a4",
   "metadata": {},
   "outputs": [],
   "source": [
    "import itertools\n",
    "import json\n",
    "\n",
    "import gurobipy\n",
    "import numpy as np"
   ]
  },
  {
   "cell_type": "markdown",
   "id": "ddacc80a-38cf-4d91-8a2b-07ab8390e9e5",
   "metadata": {},
   "source": [
    "#### Formulation\n",
    "\n",
    "<u>Set(s)</u></br>\n",
    "$I$ - set of items, $i \\in I$</br>\n",
    "\n",
    "<u>Parameters</u></br>\n",
    "$v_{i}$ - value of item $i$</br>\n",
    "$w_{i}$ - weight of item $i$</br>\n",
    "$b$ - knapsack capacity</br>\n",
    "\n",
    "<u>Decision Variables</u></br>\n",
    "$X_{i}$ - 1, if item $i$ is included; 0, otherwise.</br>\n",
    "\n",
    "\\begin{align}\n",
    "\\text{Maximize } \\sum_{i\\in I} v_{i}X_{i} \\hspace{15cm}~\\\\\n",
    "\\end{align}\n",
    "\\begin{align}\n",
    "\\text{subject }to\\qquad\\qquad\\\\\n",
    "\\sum_{i \\in I} w_{i}X_{i} &\\leq b. && \\text{(Total weight of included items must be less than knapsack capacity)}\\\\\n",
    "X_{i} & \\in \\{0, 1\\}, \\forall i \\in I. && \\text{(Assignment variables are binary)}\n",
    "\\end{align}"
   ]
  },
  {
   "cell_type": "markdown",
   "id": "5935843d-6cd1-413e-9bd0-8fa64bc8fe00",
   "metadata": {},
   "source": [
    "The following code block generates data for an example instance of the assignment problem"
   ]
  },
  {
   "cell_type": "code",
   "execution_count": 2,
   "id": "d6bdb9b7-4262-4b6e-a146-b01e52c90a52",
   "metadata": {},
   "outputs": [],
   "source": [
    "NUM_ITEMS = 10\n",
    "\n",
    "I = {i for i in range(1, NUM_ITEMS+1)}\n",
    "\n",
    "np.random.seed(0)\n",
    "\n",
    "v = {i: round(np.random.uniform(low=1.0, high=10.0), 2) for i in I}\n",
    "w = {i: round(np.random.uniform(low=1.0, high=10.0), 2) for i in I}\n",
    "b = round(sum(w.values())*0.45, 2)"
   ]
  },
  {
   "cell_type": "markdown",
   "id": "e44c6c69-ca83-464d-b660-2263d58bb24c",
   "metadata": {},
   "source": [
    "First, we need to instantiate a Gurobi `Model` instance"
   ]
  },
  {
   "cell_type": "code",
   "execution_count": 3,
   "id": "c39ad3a7-84d2-4de3-bda6-827a6e516de8",
   "metadata": {},
   "outputs": [
    {
     "name": "stdout",
     "output_type": "stream",
     "text": [
      "Set parameter Username\n",
      "Academic license - for non-commercial use only - expires 2024-11-30\n"
     ]
    }
   ],
   "source": [
    "model = gurobipy.Model('Knapsack-Problem')"
   ]
  },
  {
   "cell_type": "markdown",
   "id": "cbfa88a8-4331-4af8-9c44-95469bbf358d",
   "metadata": {},
   "source": [
    "Next, we define the decision variables"
   ]
  },
  {
   "cell_type": "code",
   "execution_count": 4,
   "id": "bd4558a5-53b0-45bd-9f38-15a74cd92ba1",
   "metadata": {},
   "outputs": [],
   "source": [
    "X = model.addVars(\n",
    "    I,\n",
    "    vtype=gurobipy.GRB.BINARY,\n",
    "    name='X',\n",
    ")"
   ]
  },
  {
   "cell_type": "markdown",
   "id": "8ab060e6-0132-44dd-9144-92aa803f107a",
   "metadata": {},
   "source": [
    "Next we define the objective function and specify that the defined objective should be used by our instantiated model. As a reminder, our objective is:\n",
    "\n",
    "$$\\text{Maximize } \\sum_{i\\in I} v_{i}X_{i}.$$\n",
    "\n",
    "Note that we use a `LinExpr` object, along with `for` loops, to capture the sums in the expression."
   ]
  },
  {
   "cell_type": "code",
   "execution_count": 5,
   "id": "94469440-af2e-448b-a4af-c0dc4560db53",
   "metadata": {},
   "outputs": [],
   "source": [
    "total_value = gurobipy.LinExpr()\n",
    "for i in I:\n",
    "    total_value.add(v[i]*X[i])\n",
    "\n",
    "model.setObjective(\n",
    "    total_value, \n",
    "    sense=gurobipy.GRB.MAXIMIZE,\n",
    ")"
   ]
  },
  {
   "cell_type": "markdown",
   "id": "f745b5bd-0ae8-4abc-93c3-ec279e4d6715",
   "metadata": {},
   "source": [
    "The following code block defines the capacity constraint. In the formulation, we represented this constraint as:\n",
    "\n",
    "$$\\sum_{i \\in I} X_{i} \\leq b.$$"
   ]
  },
  {
   "cell_type": "code",
   "execution_count": 6,
   "id": "010f96d1-b49a-4e7d-a006-3bf80e6aeb49",
   "metadata": {},
   "outputs": [
    {
     "data": {
      "text/plain": [
       "<gurobi.Constr *Awaiting Model Update*>"
      ]
     },
     "execution_count": 6,
     "metadata": {},
     "output_type": "execute_result"
    }
   ],
   "source": [
    "i_sum = gurobipy.LinExpr()\n",
    "for i in I:\n",
    "    i_sum.add(w[i]*X[i])\n",
    "\n",
    "model.addConstr(\n",
    "    i_sum <= b, \n",
    "    name=f'capacity_constraint',\n",
    ")"
   ]
  },
  {
   "cell_type": "markdown",
   "id": "c20aff7b-9a09-4e51-ae29-5b9ba43097ff",
   "metadata": {},
   "source": [
    "Before we solve the model, lets `update` our model and look at the information it contains."
   ]
  },
  {
   "cell_type": "code",
   "execution_count": 7,
   "id": "59819751-80fd-4cfe-9209-94aa3e041267",
   "metadata": {},
   "outputs": [
    {
     "data": {
      "text/plain": [
       "<gurobi.Model MIP instance Knapsack-Problem: 1 constrs, 10 vars, Parameter changes: Username=(user-defined)>"
      ]
     },
     "execution_count": 7,
     "metadata": {},
     "output_type": "execute_result"
    }
   ],
   "source": [
    "model.update()\n",
    "model"
   ]
  },
  {
   "cell_type": "markdown",
   "id": "47948c75-83c8-4369-87ca-419466a25038",
   "metadata": {},
   "source": [
    "Let's look at the constraints"
   ]
  },
  {
   "cell_type": "code",
   "execution_count": 8,
   "id": "29e01e36-d484-403f-afc4-22e44b9f4779",
   "metadata": {},
   "outputs": [
    {
     "data": {
      "text/plain": [
       "[<gurobi.Constr capacity_constraint>]"
      ]
     },
     "execution_count": 8,
     "metadata": {},
     "output_type": "execute_result"
    }
   ],
   "source": [
    "model.getConstrs()"
   ]
  },
  {
   "cell_type": "markdown",
   "id": "e5924bac-8542-4be4-a58b-39b61286273b",
   "metadata": {},
   "source": [
    "Let's look at the objective"
   ]
  },
  {
   "cell_type": "code",
   "execution_count": 9,
   "id": "27b87fcc-7300-4f83-a8d9-a8303926bf02",
   "metadata": {},
   "outputs": [
    {
     "data": {
      "text/plain": [
       "<gurobi.LinExpr: 5.94 X[1] + 7.44 X[2] + 6.42 X[3] + 5.9 X[4] + 4.81 X[5] + 6.81 X[6] + 4.94 X[7] + 9.03 X[8] + 9.67 X[9] + 4.45 X[10]>"
      ]
     },
     "execution_count": 9,
     "metadata": {},
     "output_type": "execute_result"
    }
   ],
   "source": [
    "model.getObjective()"
   ]
  },
  {
   "cell_type": "markdown",
   "id": "86cd2521-c3d0-4064-8b47-9bf76d2c7280",
   "metadata": {},
   "source": [
    "The following code block solves the defined optimization model"
   ]
  },
  {
   "cell_type": "code",
   "execution_count": 10,
   "id": "35a882d8-ee2b-4f35-8462-3358f50b93f6",
   "metadata": {},
   "outputs": [
    {
     "name": "stdout",
     "output_type": "stream",
     "text": [
      "Gurobi Optimizer version 11.0.1 build v11.0.1rc0 (linux64 - \"Pop!_OS 22.04 LTS\")\n",
      "\n",
      "CPU model: AMD Ryzen 7 5800X 8-Core Processor, instruction set [SSE2|AVX|AVX2]\n",
      "Thread count: 8 physical cores, 16 logical processors, using up to 16 threads\n",
      "\n",
      "Optimize a model with 1 rows, 10 columns and 10 nonzeros\n",
      "Model fingerprint: 0xa1a7082a\n",
      "Variable types: 0 continuous, 10 integer (10 binary)\n",
      "Coefficient statistics:\n",
      "  Matrix range     [1e+00, 9e+00]\n",
      "  Objective range  [4e+00, 1e+01]\n",
      "  Bounds range     [1e+00, 1e+00]\n",
      "  RHS range        [3e+01, 3e+01]\n",
      "Found heuristic solution: objective 36.3600000\n",
      "Presolve time: 0.00s\n",
      "Presolved: 1 rows, 10 columns, 10 nonzeros\n",
      "Variable types: 0 continuous, 10 integer (10 binary)\n",
      "Found heuristic solution: objective 40.0900000\n",
      "\n",
      "Root relaxation: objective 4.247664e+01, 1 iterations, 0.00 seconds (0.00 work units)\n",
      "\n",
      "    Nodes    |    Current Node    |     Objective Bounds      |     Work\n",
      " Expl Unexpl |  Obj  Depth IntInf | Incumbent    BestBd   Gap | It/Node Time\n",
      "\n",
      "     0     0   42.47664    0    1   40.09000   42.47664  5.95%     -    0s\n",
      "     0     0 infeasible    0        40.09000   40.09000  0.00%     -    0s\n",
      "\n",
      "Explored 1 nodes (2 simplex iterations) in 0.01 seconds (0.00 work units)\n",
      "Thread count was 16 (of 16 available processors)\n",
      "\n",
      "Solution count 2: 40.09 36.36 \n",
      "\n",
      "Optimal solution found (tolerance 1.00e-04)\n",
      "Best objective 4.009000000000e+01, best bound 4.009000000000e+01, gap 0.0000%\n"
     ]
    }
   ],
   "source": [
    "model.optimize()"
   ]
  },
  {
   "cell_type": "markdown",
   "id": "4c978af2-24bd-4ec8-a78e-c0850704eef4",
   "metadata": {},
   "source": [
    "When the model is solved, you can use the `getJSONSolution` method to get information regarding the solution."
   ]
  },
  {
   "cell_type": "code",
   "execution_count": 11,
   "id": "609b3a52-507f-4ae3-8316-8c97da1686b7",
   "metadata": {},
   "outputs": [
    {
     "data": {
      "text/plain": [
       "{'SolutionInfo': {'Status': 2,\n",
       "  'Runtime': 0.007565021514892578,\n",
       "  'Work': 4.844883181818176e-05,\n",
       "  'ObjVal': 40.09,\n",
       "  'ObjBound': 40.09,\n",
       "  'ObjBoundC': 40.09,\n",
       "  'MIPGap': 0,\n",
       "  'IntVio': 0,\n",
       "  'BoundVio': 0,\n",
       "  'ConstrVio': 0,\n",
       "  'IterCount': 2,\n",
       "  'BarIterCount': 0,\n",
       "  'NodeCount': 1,\n",
       "  'SolCount': 2,\n",
       "  'PoolObjBound': 40.09,\n",
       "  'PoolObjVal': [40.09, 36.36]},\n",
       " 'Vars': [{'VarName': 'X[2]', 'X': 1},\n",
       "  {'VarName': 'X[3]', 'X': 1},\n",
       "  {'VarName': 'X[5]', 'X': 1},\n",
       "  {'VarName': 'X[6]', 'X': 1},\n",
       "  {'VarName': 'X[7]', 'X': 1},\n",
       "  {'VarName': 'X[9]', 'X': 1}]}"
      ]
     },
     "execution_count": 11,
     "metadata": {},
     "output_type": "execute_result"
    }
   ],
   "source": [
    "json.loads(model.getJSONSolution())"
   ]
  },
  {
   "cell_type": "markdown",
   "id": "9bac986d-52c0-4815-bd99-8b1897fb82aa",
   "metadata": {},
   "source": [
    "You can get the value of the objective by calling the `ObjVal` attribute "
   ]
  },
  {
   "cell_type": "code",
   "execution_count": 12,
   "id": "3c8c031e-e206-40bc-bba8-fb869a6eef21",
   "metadata": {},
   "outputs": [
    {
     "data": {
      "text/plain": [
       "40.09"
      ]
     },
     "execution_count": 12,
     "metadata": {},
     "output_type": "execute_result"
    }
   ],
   "source": [
    "model.ObjVal"
   ]
  },
  {
   "cell_type": "markdown",
   "id": "17b6581d-44fa-47de-97af-1427910c50a8",
   "metadata": {},
   "source": [
    "If you want to access the specific value of a decision variable, you can use the variables `x` attribute"
   ]
  },
  {
   "cell_type": "code",
   "execution_count": 13,
   "id": "db507241-b5c5-4132-a1c7-98526c3d8961",
   "metadata": {},
   "outputs": [
    {
     "data": {
      "text/plain": [
       "0.0"
      ]
     },
     "execution_count": 13,
     "metadata": {},
     "output_type": "execute_result"
    }
   ],
   "source": [
    "X[1].x"
   ]
  },
  {
   "cell_type": "markdown",
   "id": "7cbff5db-6b64-49e4-a4b6-be9946e53c3a",
   "metadata": {},
   "source": [
    "The following code block prints the optimal assignments for the sample problem"
   ]
  },
  {
   "cell_type": "code",
   "execution_count": 14,
   "id": "47451c73-d2cc-41f5-ad50-8a5c0ec271c0",
   "metadata": {},
   "outputs": [
    {
     "name": "stdout",
     "output_type": "stream",
     "text": [
      "Optimal Assignments\n",
      "--------------------\n",
      " - Item 2 included\n",
      " - Item 3 included\n",
      " - Item 5 included\n",
      " - Item 6 included\n",
      " - Item 7 included\n",
      " - Item 9 included\n"
     ]
    }
   ],
   "source": [
    "print('Optimal Assignments')\n",
    "print('-'*20)\n",
    "for i in I:\n",
    "    if X[i].x > 0.1:\n",
    "        print(f' - Item {i} included')"
   ]
  },
  {
   "cell_type": "markdown",
   "id": "f64cc4a1-68d3-45df-ab01-b699a7307436",
   "metadata": {},
   "source": [
    "#### All together\n",
    "\n",
    "The following code block includes all of the code to generate data and solve the model."
   ]
  },
  {
   "cell_type": "code",
   "execution_count": 15,
   "id": "d3fb97bf-162e-4557-8d98-465f4253e9e8",
   "metadata": {},
   "outputs": [
    {
     "name": "stdout",
     "output_type": "stream",
     "text": [
      "Gurobi Optimizer version 11.0.1 build v11.0.1rc0 (linux64 - \"Pop!_OS 22.04 LTS\")\n",
      "\n",
      "CPU model: AMD Ryzen 7 5800X 8-Core Processor, instruction set [SSE2|AVX|AVX2]\n",
      "Thread count: 8 physical cores, 16 logical processors, using up to 16 threads\n",
      "\n",
      "Optimize a model with 1 rows, 10 columns and 10 nonzeros\n",
      "Model fingerprint: 0xa1a7082a\n",
      "Variable types: 0 continuous, 10 integer (10 binary)\n",
      "Coefficient statistics:\n",
      "  Matrix range     [1e+00, 9e+00]\n",
      "  Objective range  [4e+00, 1e+01]\n",
      "  Bounds range     [1e+00, 1e+00]\n",
      "  RHS range        [3e+01, 3e+01]\n",
      "Found heuristic solution: objective 36.3600000\n",
      "Presolve time: 0.00s\n",
      "Presolved: 1 rows, 10 columns, 10 nonzeros\n",
      "Variable types: 0 continuous, 10 integer (10 binary)\n",
      "Found heuristic solution: objective 40.0900000\n",
      "\n",
      "Root relaxation: objective 4.247664e+01, 1 iterations, 0.00 seconds (0.00 work units)\n",
      "\n",
      "    Nodes    |    Current Node    |     Objective Bounds      |     Work\n",
      " Expl Unexpl |  Obj  Depth IntInf | Incumbent    BestBd   Gap | It/Node Time\n",
      "\n",
      "     0     0   42.47664    0    1   40.09000   42.47664  5.95%     -    0s\n",
      "     0     0 infeasible    0        40.09000   40.09000  0.00%     -    0s\n",
      "\n",
      "Explored 1 nodes (2 simplex iterations) in 0.01 seconds (0.00 work units)\n",
      "Thread count was 16 (of 16 available processors)\n",
      "\n",
      "Solution count 2: 40.09 36.36 \n",
      "\n",
      "Optimal solution found (tolerance 1.00e-04)\n",
      "Best objective 4.009000000000e+01, best bound 4.009000000000e+01, gap 0.0000%\n",
      "Optimal Assignments\n",
      "--------------------\n",
      " - Item 2 included\n",
      " - Item 3 included\n",
      " - Item 5 included\n",
      " - Item 6 included\n",
      " - Item 7 included\n",
      " - Item 9 included\n"
     ]
    }
   ],
   "source": [
    "NUM_ITEMS = 10\n",
    "\n",
    "I = {i for i in range(1, NUM_ITEMS+1)}\n",
    "\n",
    "np.random.seed(0)\n",
    "\n",
    "v = {i: round(np.random.uniform(low=1.0, high=10.0), 2) for i in I}\n",
    "w = {i: round(np.random.uniform(low=1.0, high=10.0), 2) for i in I}\n",
    "b = round(sum(w.values())*0.45, 2)\n",
    "\n",
    "model = gurobipy.Model('Knapsack-Problem')\n",
    "\n",
    "X = model.addVars(\n",
    "    I,\n",
    "    vtype=gurobipy.GRB.BINARY,\n",
    "    name='X',\n",
    ")\n",
    "\n",
    "total_value = gurobipy.LinExpr()\n",
    "for i in I:\n",
    "    total_value.add(v[i]*X[i])\n",
    "\n",
    "model.setObjective(\n",
    "    total_value, \n",
    "    sense=gurobipy.GRB.MAXIMIZE,\n",
    ")\n",
    "\n",
    "i_sum = gurobipy.LinExpr()\n",
    "for i in I:\n",
    "    i_sum.add(w[i]*X[i])\n",
    "\n",
    "model.addConstr(\n",
    "    i_sum <= b, \n",
    "    name=f'capacity_constraint',\n",
    ")\n",
    "\n",
    "model.optimize()\n",
    "\n",
    "print('Optimal Assignments')\n",
    "print('-'*20)\n",
    "for i in I:\n",
    "    if X[i].x > 0.1:\n",
    "        print(f' - Item {i} included')"
   ]
  },
  {
   "cell_type": "code",
   "execution_count": null,
   "id": "85aa1d35-9fbb-4bc9-b5ec-27dc9c484051",
   "metadata": {},
   "outputs": [],
   "source": []
  }
 ],
 "metadata": {
  "kernelspec": {
   "display_name": "Python 3 (ipykernel)",
   "language": "python",
   "name": "python3"
  },
  "language_info": {
   "codemirror_mode": {
    "name": "ipython",
    "version": 3
   },
   "file_extension": ".py",
   "mimetype": "text/x-python",
   "name": "python",
   "nbconvert_exporter": "python",
   "pygments_lexer": "ipython3",
   "version": "3.12.2"
  }
 },
 "nbformat": 4,
 "nbformat_minor": 5
}
